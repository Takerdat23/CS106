{
 "cells": [
  {
   "cell_type": "code",
   "execution_count": 2,
   "metadata": {},
   "outputs": [
    {
     "name": "stdout",
     "output_type": "stream",
     "text": [
      "Requirement already satisfied: ortools in c:\\users\\admin\\appdata\\local\\programs\\python\\python311\\lib\\site-packages (9.9.3963)\n",
      "Requirement already satisfied: absl-py>=2.0.0 in c:\\users\\admin\\appdata\\local\\programs\\python\\python311\\lib\\site-packages (from ortools) (2.1.0)\n",
      "Requirement already satisfied: numpy>=1.13.3 in c:\\users\\admin\\appdata\\local\\programs\\python\\python311\\lib\\site-packages (from ortools) (1.26.2)\n",
      "Requirement already satisfied: pandas>=2.0.0 in c:\\users\\admin\\appdata\\local\\programs\\python\\python311\\lib\\site-packages (from ortools) (2.1.3)\n",
      "Requirement already satisfied: protobuf>=4.25.3 in c:\\users\\admin\\appdata\\local\\programs\\python\\python311\\lib\\site-packages (from ortools) (5.26.1)\n",
      "Requirement already satisfied: immutabledict>=3.0.0 in c:\\users\\admin\\appdata\\local\\programs\\python\\python311\\lib\\site-packages (from ortools) (4.2.0)\n",
      "Requirement already satisfied: python-dateutil>=2.8.2 in c:\\users\\admin\\appdata\\local\\programs\\python\\python311\\lib\\site-packages (from pandas>=2.0.0->ortools) (2.8.2)\n",
      "Requirement already satisfied: pytz>=2020.1 in c:\\users\\admin\\appdata\\local\\programs\\python\\python311\\lib\\site-packages (from pandas>=2.0.0->ortools) (2023.3.post1)\n",
      "Requirement already satisfied: tzdata>=2022.1 in c:\\users\\admin\\appdata\\local\\programs\\python\\python311\\lib\\site-packages (from pandas>=2.0.0->ortools) (2023.3)\n",
      "Requirement already satisfied: six>=1.5 in c:\\users\\admin\\appdata\\local\\programs\\python\\python311\\lib\\site-packages (from python-dateutil>=2.8.2->pandas>=2.0.0->ortools) (1.16.0)\n"
     ]
    },
    {
     "name": "stderr",
     "output_type": "stream",
     "text": [
      "\n",
      "[notice] A new release of pip is available: 23.3.2 -> 24.0\n",
      "[notice] To update, run: C:\\Users\\ADMIN\\AppData\\Local\\Programs\\Python\\Python311\\python.exe -m pip install --upgrade pip\n"
     ]
    }
   ],
   "source": [
    "!pip install ortools"
   ]
  },
  {
   "cell_type": "code",
   "execution_count": 2,
   "metadata": {},
   "outputs": [],
   "source": [
    "from ortools.algorithms.python import knapsack_solver\n",
    "import json\n",
    "import os\n",
    "import time\n",
    "    \n",
    "def process(data_path): \n",
    "    data = {\n",
    "                        \"values\":[],\n",
    "                        \"weights\":[[]],\n",
    "                        \"capacities\":[],\n",
    "                        \"size\":[]\n",
    "                    }\n",
    "    with open(data_path,'r') as file_data:\n",
    "            file = file_data.read().splitlines()\n",
    "            data[\"size\"].append(int(file[1]))\n",
    "            data[\"capacities\"].append(int(file[2]))\n",
    "            for i in range(4,len(file)):\n",
    "                data[\"values\"].append(int(file[i].split(' ')[0]))\n",
    "                data[\"weights\"][0].append(int(file[i].split(' ')[1]))    \n",
    "    return data    \n",
    "\n",
    "def KnapSacks(data, filename): \n",
    "    solver = knapsack_solver.KnapsackSolver(\n",
    "        knapsack_solver.SolverType.KNAPSACK_MULTIDIMENSION_BRANCH_AND_BOUND_SOLVER,\n",
    "        \"KnapsackExample\",\n",
    "    )\n",
    "    \n",
    "\n",
    "    result = { \n",
    "         'Total weight': 0 , \n",
    "         'Packed items': [], \n",
    "         'Packed items length': 0 , \n",
    "         'Time': 0\n",
    "    }\n",
    "\n",
    "\n",
    "    values = data[\"values\"]\n",
    "    weights = data[\"weights\"]\n",
    "    capacities = data[\"capacities\"]\n",
    "\n",
    "    solver.init(values, weights, capacities)\n",
    "    solver.set_time_limit(180)\n",
    "    time_start = time.time()\n",
    "    computed_value = solver.solve()\n",
    "    time_end = time.time()\n",
    "\n",
    "    # runtime = time_end - time_start\n",
    "    # isOptimal = (runtime <= 180)\n",
    "    \n",
    "\n",
    "    # packed_items = []\n",
    "    # packed_weights = []\n",
    "    # total_weight = 0\n",
    "\n",
    "    # print(\"Total value =\", computed_value)\n",
    " \n",
    "    # for i in range(len(values)):\n",
    "    #     if solver.best_solution_contains(i):\n",
    "    #         packed_items.append(i)\n",
    "    #         packed_weights.append(weights[0][i])\n",
    "    #         total_weight += weights[0][i]\n",
    "\n",
    "            \n",
    "            \n",
    "    # result[\"Total weight\"] =  total_weight\n",
    "    # result[\"Packed items\"] =  packed_items\n",
    "    # result['Packed items length'] =  len(packed_items)\n",
    "\n",
    "    # result['Time'] = runtime\n",
    "    # result[\"isOptimal\"] = isOptimal\n",
    "    # out_file = open(filename, \"w\") \n",
    "  \n",
    "    # json.dump(result, out_file) \n",
    "    \n",
    "    # out_file.close() \n",
    "\n",
    "\n",
    "         \n",
    "    \n",
    "\n"
   ]
  },
  {
   "cell_type": "code",
   "execution_count": 5,
   "metadata": {},
   "outputs": [
    {
     "name": "stdout",
     "output_type": "stream",
     "text": [
      "./results/07/s001.json\n"
     ]
    }
   ],
   "source": [
    "import random\n",
    "\n",
    "\n",
    "\n",
    "\n",
    "\n",
    "data = process('./tests/07/s001.kp')\n",
    "out_path = './results/07/s001.json'\n",
    "print(out_path)\n",
    "KnapSacks(data, out_path)\n",
    "   \n",
    "    \n"
   ]
  },
  {
   "cell_type": "code",
   "execution_count": 3,
   "metadata": {},
   "outputs": [
    {
     "name": "stdout",
     "output_type": "stream",
     "text": [
      "s099.json\n",
      "[1000]\n",
      "Total weight 2434405\n",
      "Packed items length 508\n",
      "Time 0.012254714965820312\n",
      "isOptimal True\n"
     ]
    }
   ],
   "source": [
    "# Print result \n",
    "import os \n",
    "import json\n",
    "folder = \"01\"\n",
    "test = \"./tests/\"+ folder\n",
    "folder_to_check = \"./results/\"+ folder\n",
    "for instance in os.listdir(folder_to_check ): \n",
    "    file = open(os.path.join(folder_to_check, instance))\n",
    "    print(instance)\n",
    "    #get instance n \n",
    "    data_path = os.path.join(test, instance[:-5]+ \".kp\")\n",
    "    data_test = process(data_path)\n",
    "    print(data_test['size'])\n",
    "    data = json.load(file)\n",
    "    print(\"Total weight\" , data['Total weight'])\n",
    "    print(\"Packed items length\" , data['Packed items length'])\n",
    "    print(\"Time\" , data[\"Time\"])\n",
    "    print(\"isOptimal\" , data['isOptimal'])\n",
    "\n"
   ]
  }
 ],
 "metadata": {
  "kernelspec": {
   "display_name": "Tree_transformer",
   "language": "python",
   "name": "python3"
  },
  "language_info": {
   "codemirror_mode": {
    "name": "ipython",
    "version": 3
   },
   "file_extension": ".py",
   "mimetype": "text/x-python",
   "name": "python",
   "nbconvert_exporter": "python",
   "pygments_lexer": "ipython3",
   "version": "3.10.13"
  }
 },
 "nbformat": 4,
 "nbformat_minor": 2
}
