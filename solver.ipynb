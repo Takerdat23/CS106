{
 "cells": [
  {
   "cell_type": "code",
   "execution_count": null,
   "metadata": {},
   "outputs": [],
   "source": [
    "from ortools.algorithms.python import knapsack_solver"
   ]
  },
  {
   "cell_type": "code",
   "execution_count": null,
   "metadata": {},
   "outputs": [],
   "source": [
    "values = [\n",
    "    # fmt:off\n",
    "  360, 83, 59, 130, 431, 67, 230, 52, 93, 125, 670, 892, 600, 38, 48, 147,\n",
    "  78, 256, 63, 17, 120, 164, 432, 35, 92, 110, 22, 42, 50, 323, 514, 28,\n",
    "  87, 73, 78, 15, 26, 78, 210, 36, 85, 189, 274, 43, 33, 10, 19, 389, 276,\n",
    "  312\n",
    "    # fmt:on\n",
    "]\n",
    "weights = [\n",
    "    # fmt: off\n",
    "  [7, 0, 30, 22, 80, 94, 11, 81, 70, 64, 59, 18, 0, 36, 3, 8, 15, 42, 9, 0,\n",
    "   42, 47, 52, 32, 26, 48, 55, 6, 29, 84, 2, 4, 18, 56, 7, 29, 93, 44, 71,\n",
    "   3, 86, 66, 31, 65, 0, 79, 20, 65, 52, 13],\n",
    "    # fmt: on\n",
    "]\n",
    "capacities = [850]"
   ]
  },
  {
   "cell_type": "code",
   "execution_count": null,
   "metadata": {},
   "outputs": [],
   "source": [
    "solver = knapsack_solver.KnapsackSolver(\n",
    "    knapsack_solver.SolverType.KNAPSACK_MULTIDIMENSION_BRANCH_AND_BOUND_SOLVER,\n",
    "    \"KnapsackExample\",\n",
    ")"
   ]
  },
  {
   "cell_type": "code",
   "execution_count": null,
   "metadata": {},
   "outputs": [],
   "source": [
    "solver.init(values, weights, capacities)\n",
    "computed_value = solver.solve()\n",
    "packed_items = []\n",
    "packed_weights = []\n",
    "total_weight = 0\n",
    "print(\"Total value =\", computed_value)\n",
    "for i in range(len(values)):\n",
    "    if solver.best_solution_contains(i):\n",
    "        packed_items.append(i)\n",
    "        packed_weights.append(weights[0][i])\n",
    "        total_weight += weights[0][i]\n",
    "print(\"Total weight:\", total_weight)\n",
    "print(\"Packed items:\", packed_items)\n",
    "print(\"Packed_weights:\", packed_weights)"
   ]
  },
  {
   "cell_type": "code",
   "execution_count": null,
   "metadata": {},
   "outputs": [],
   "source": [
    "packed_items = [x for x in range(0, len(weights[0]))\n",
    "                  if solver.BestSolutionContains(x)]"
   ]
  },
  {
   "cell_type": "code",
   "execution_count": null,
   "metadata": {},
   "outputs": [],
   "source": []
  }
 ],
 "metadata": {
  "language_info": {
   "name": "python"
  }
 },
 "nbformat": 4,
 "nbformat_minor": 2
}
